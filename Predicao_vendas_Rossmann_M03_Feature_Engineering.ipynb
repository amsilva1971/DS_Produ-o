{
 "cells": [
  {
   "cell_type": "markdown",
   "id": "ed4a72ff-3765-4235-a6fb-99fc4a901d09",
   "metadata": {},
   "source": [
    "# 0.0. IMPORTS"
   ]
  },
  {
   "cell_type": "code",
   "execution_count": 42,
   "id": "8aaeab6d-f3fd-4318-9fee-d2213a8ea956",
   "metadata": {},
   "outputs": [
    {
     "name": "stdout",
     "output_type": "stream",
     "text": [
      "Requirement already satisfied: inflection in /Users/alexandremarquesdasilva/.pyenv/versions/DS_Producao/lib/python3.12/site-packages (0.5.1)\n"
     ]
    }
   ],
   "source": [
    "import math\n",
    "import numpy  as np\n",
    "import pandas as pd\n",
    "import datetime\n",
    "!pip install inflection\n",
    "import inflection\n",
    "import seaborn as sns\n",
    "from matplotlib import pyplot as plt \n",
    "from IPython.core.display import HTML \n",
    "from IPython.display import Image\n"
   ]
  },
  {
   "cell_type": "markdown",
   "id": "3ed93812-e6cc-4514-9a23-c03e1e8b0a60",
   "metadata": {},
   "source": [
    "## 0.1. Helper Functions"
   ]
  },
  {
   "cell_type": "code",
   "execution_count": null,
   "id": "35ad8275-da8e-40fb-be01-1669d901b297",
   "metadata": {},
   "outputs": [],
   "source": []
  },
  {
   "cell_type": "markdown",
   "id": "07da5cde-e8de-40a6-83e6-bb451a160266",
   "metadata": {},
   "source": [
    "## 0.2 Loading data"
   ]
  },
  {
   "cell_type": "code",
   "execution_count": 7,
   "id": "c8a36294-2e84-43eb-b5bb-85e3f16981be",
   "metadata": {},
   "outputs": [],
   "source": [
    "df_sales_raw = pd.read_csv( 'train.csv', low_memory=False ) \n",
    "df_store_raw = pd.read_csv( 'store.csv', low_memory=False )\n",
    "# merge\n",
    "df_raw = pd.merge( df_sales_raw, df_store_raw, how='left', on='Store' )\n",
    "\n",
    "df1 = df_raw.copy()"
   ]
  },
  {
   "attachments": {},
   "cell_type": "markdown",
   "id": "129dc3db-5b2a-4591-968a-0df4ed8e4ab9",
   "metadata": {},
   "source": [
    "# 1.0 DESCRIÇAO DOS DADOS"
   ]
  },
  {
   "cell_type": "markdown",
   "id": "fbca83c3-8b41-4a54-ab3a-06b7af9e33fb",
   "metadata": {},
   "source": [
    "## 1.1 Renomear as colunas "
   ]
  },
  {
   "cell_type": "code",
   "execution_count": 8,
   "id": "abfd2c18-a979-4d22-a8b3-c7905bdc853e",
   "metadata": {},
   "outputs": [
    {
     "data": {
      "text/plain": [
       "Index(['Store', 'DayOfWeek', 'Date', 'Sales', 'Customers', 'Open', 'Promo',\n",
       "       'StateHoliday', 'SchoolHoliday', 'StoreType', 'Assortment',\n",
       "       'CompetitionDistance', 'CompetitionOpenSinceMonth',\n",
       "       'CompetitionOpenSinceYear', 'Promo2', 'Promo2SinceWeek',\n",
       "       'Promo2SinceYear', 'PromoInterval'],\n",
       "      dtype='object')"
      ]
     },
     "execution_count": 8,
     "metadata": {},
     "output_type": "execute_result"
    }
   ],
   "source": [
    "df1.columns"
   ]
  },
  {
   "cell_type": "code",
   "execution_count": 9,
   "id": "097999c9-e608-4faa-b564-9faa30e4562d",
   "metadata": {},
   "outputs": [],
   "source": [
    "cols_old = ['Store', 'DayOfWeek', 'Date', 'Sales', 'Customers', 'Open', 'Promo',\n",
    "       'StateHoliday', 'SchoolHoliday', 'StoreType', 'Assortment',\n",
    "       'CompetitionDistance', 'CompetitionOpenSinceMonth',\n",
    "       'CompetitionOpenSinceYear', 'Promo2', 'Promo2SinceWeek',\n",
    "       'Promo2SinceYear', 'PromoInterval']\n",
    "snakecase = lambda x: inflection.underscore(x)\n",
    "cols_new = list (map (snakecase, cols_old))\n",
    "df1.columns = cols_new"
   ]
  },
  {
   "cell_type": "code",
   "execution_count": 10,
   "id": "62f49d77-7d47-417a-bd2d-eb6b2132a8d2",
   "metadata": {},
   "outputs": [
    {
     "data": {
      "text/plain": [
       "Index(['store', 'day_of_week', 'date', 'sales', 'customers', 'open', 'promo',\n",
       "       'state_holiday', 'school_holiday', 'store_type', 'assortment',\n",
       "       'competition_distance', 'competition_open_since_month',\n",
       "       'competition_open_since_year', 'promo2', 'promo2_since_week',\n",
       "       'promo2_since_year', 'promo_interval'],\n",
       "      dtype='object')"
      ]
     },
     "execution_count": 10,
     "metadata": {},
     "output_type": "execute_result"
    }
   ],
   "source": [
    "df1.columns"
   ]
  },
  {
   "cell_type": "markdown",
   "id": "b8cccdf3-4632-47e1-8d6c-f27e8d54750f",
   "metadata": {},
   "source": [
    "## 1.2 Dimensão dos dados"
   ]
  },
  {
   "cell_type": "code",
   "execution_count": 11,
   "id": "eece1973-e962-4c71-baa5-b3509c73e362",
   "metadata": {},
   "outputs": [
    {
     "name": "stdout",
     "output_type": "stream",
     "text": [
      "Número de linhas: 1017209\n",
      "Número de colunas: 18\n"
     ]
    }
   ],
   "source": [
    "print ('Número de linhas: {}'.format (df1.shape[0]))\n",
    "print ('Número de colunas: {}'.format (df1.shape[1]))"
   ]
  },
  {
   "cell_type": "markdown",
   "id": "4ca88e99-3767-4b4e-8189-bba2b693c896",
   "metadata": {},
   "source": [
    "## 1.3 Tipos de dados"
   ]
  },
  {
   "cell_type": "code",
   "execution_count": 28,
   "id": "3b0fc171-5bec-41f4-8fa9-86bd15f4414a",
   "metadata": {},
   "outputs": [
    {
     "data": {
      "text/plain": [
       "store                                    int64\n",
       "day_of_week                              int64\n",
       "date                            datetime64[ns]\n",
       "sales                                    int64\n",
       "customers                                int64\n",
       "open                                     int64\n",
       "promo                                    int64\n",
       "state_holiday                           object\n",
       "school_holiday                           int64\n",
       "store_type                              object\n",
       "assortment                              object\n",
       "competition_distance                   float64\n",
       "competition_open_since_month             int64\n",
       "competition_open_since_year              int64\n",
       "promo2                                   int64\n",
       "promo2_since_week                        int64\n",
       "promo2_since_year                        int64\n",
       "promo_interval                          object\n",
       "month_map                               object\n",
       "is_promo                                 int64\n",
       "dtype: object"
      ]
     },
     "execution_count": 28,
     "metadata": {},
     "output_type": "execute_result"
    }
   ],
   "source": [
    "df1.dtypes"
   ]
  },
  {
   "cell_type": "code",
   "execution_count": 13,
   "id": "22573cbb-cad1-42d1-8df1-51e0815e759b",
   "metadata": {},
   "outputs": [],
   "source": [
    "df1 ['date'] = pd.to_datetime (df1['date'])"
   ]
  },
  {
   "cell_type": "markdown",
   "id": "900c453b-3f22-47a4-808c-016c0d5a2229",
   "metadata": {},
   "source": [
    "## 1.4 Pesquisando os NA"
   ]
  },
  {
   "cell_type": "code",
   "execution_count": 25,
   "id": "b8342bfc-b2c2-499b-8857-3e20135b74ed",
   "metadata": {},
   "outputs": [
    {
     "data": {
      "text/plain": [
       "store                           0\n",
       "day_of_week                     0\n",
       "date                            0\n",
       "sales                           0\n",
       "customers                       0\n",
       "open                            0\n",
       "promo                           0\n",
       "state_holiday                   0\n",
       "school_holiday                  0\n",
       "store_type                      0\n",
       "assortment                      0\n",
       "competition_distance            0\n",
       "competition_open_since_month    0\n",
       "competition_open_since_year     0\n",
       "promo2                          0\n",
       "promo2_since_week               0\n",
       "promo2_since_year               0\n",
       "promo_interval                  0\n",
       "month_map                       0\n",
       "is_promo                        0\n",
       "dtype: int64"
      ]
     },
     "execution_count": 25,
     "metadata": {},
     "output_type": "execute_result"
    }
   ],
   "source": [
    "df1.isna().sum()\n"
   ]
  },
  {
   "cell_type": "code",
   "execution_count": null,
   "id": "3b99ff8a-a674-4603-83b8-633050b1c60e",
   "metadata": {},
   "outputs": [],
   "source": []
  },
  {
   "cell_type": "markdown",
   "id": "46f9c2be-0a38-4684-ba06-34a137d600fd",
   "metadata": {},
   "source": [
    "## 1.5 Preencher os NA"
   ]
  },
  {
   "cell_type": "code",
   "execution_count": 18,
   "id": "b78b2def-6c95-4aa8-8a4f-b203adf68de1",
   "metadata": {},
   "outputs": [
    {
     "data": {
      "text/plain": [
       "np.float64(75860.0)"
      ]
     },
     "execution_count": 18,
     "metadata": {},
     "output_type": "execute_result"
    }
   ],
   "source": [
    "# competition_distance\n",
    "df1 ['competition_distance'].max()"
   ]
  },
  {
   "cell_type": "code",
   "execution_count": 19,
   "id": "3ee1389b-91dc-4108-96d9-c5309909e571",
   "metadata": {},
   "outputs": [],
   "source": [
    "# competition_distance\n",
    "df1 ['competition_distance'] = df1 ['competition_distance']. apply(lambda x: 200000 if math.isnan (x) else (x))\n"
   ]
  },
  {
   "cell_type": "code",
   "execution_count": 20,
   "id": "7c62b494-c0ec-4ea3-8c9a-b58bb0d38597",
   "metadata": {},
   "outputs": [],
   "source": [
    "# competition_open_since_month\n",
    "df1 ['competition_open_since_month'] = df1.apply (lambda x: x['date'].month if math.isnan (x ['competition_open_since_month']) else x ['competition_open_since_month'], axis=1)"
   ]
  },
  {
   "cell_type": "code",
   "execution_count": 21,
   "id": "ae819ccb-d93e-4bad-8c57-7f4cd744a3c6",
   "metadata": {},
   "outputs": [],
   "source": [
    "# competition_open_since_year\n",
    "df1 ['competition_open_since_year'] = df1.apply (lambda x: x['date'].year if math.isnan (x ['competition_open_since_year']) else x ['competition_open_since_year'], axis=1)"
   ]
  },
  {
   "cell_type": "code",
   "execution_count": 22,
   "id": "2385e39a-2bed-4aad-9522-bc98b40b2308",
   "metadata": {},
   "outputs": [],
   "source": [
    "# promo2_since_week \n",
    "df1 ['promo2_since_week'] = df1.apply (lambda x: x['date'].week if math.isnan (x ['promo2_since_week']) else x ['promo2_since_week'], axis=1)"
   ]
  },
  {
   "cell_type": "code",
   "execution_count": 23,
   "id": "d62df119-a019-46f0-8cd8-caa98c6c7238",
   "metadata": {},
   "outputs": [],
   "source": [
    "# promo2_since_year \n",
    "df1 ['promo2_since_year'] = df1.apply (lambda x: x['date'].year if math.isnan (x ['promo2_since_year']) else x ['promo2_since_year'], axis=1)"
   ]
  },
  {
   "cell_type": "code",
   "execution_count": 24,
   "id": "a1e7a48c-0e2d-494f-9c8c-d4d543962ee2",
   "metadata": {},
   "outputs": [],
   "source": [
    "# promo_interval\n",
    "month_map = {1:'Jan', 2:'Fev', 3: 'Mar', 4: 'Apr', 5: 'May', 6: 'Jun', 7:'Jul', 8:'Aug', 9: 'Sep', 10: 'Oct', 11:'Nov', 12:'Dec'}\n",
    "df1['promo_interval'] = df1['promo_interval'].fillna(0)\n",
    "\n",
    "df1['month_map'] = df1['date'].dt.month.map (month_map)\n",
    "df1['is_promo'] = df1 [['promo_interval', 'month_map']]. apply(lambda x: 0 if x['promo_interval'] == 0 else 1 if x['month_map'] in x['promo_interval']. split (',') else 0, axis=1)"
   ]
  },
  {
   "cell_type": "code",
   "execution_count": 26,
   "id": "b3121a3e-ff49-403b-bfa6-cf1eab737eb1",
   "metadata": {},
   "outputs": [
    {
     "data": {
      "text/html": [
       "<div>\n",
       "<style scoped>\n",
       "    .dataframe tbody tr th:only-of-type {\n",
       "        vertical-align: middle;\n",
       "    }\n",
       "\n",
       "    .dataframe tbody tr th {\n",
       "        vertical-align: top;\n",
       "    }\n",
       "\n",
       "    .dataframe thead th {\n",
       "        text-align: right;\n",
       "    }\n",
       "</style>\n",
       "<table border=\"1\" class=\"dataframe\">\n",
       "  <thead>\n",
       "    <tr style=\"text-align: right;\">\n",
       "      <th></th>\n",
       "      <th>831525</th>\n",
       "      <th>750268</th>\n",
       "      <th>836353</th>\n",
       "      <th>533388</th>\n",
       "      <th>154981</th>\n",
       "    </tr>\n",
       "  </thead>\n",
       "  <tbody>\n",
       "    <tr>\n",
       "      <th>store</th>\n",
       "      <td>521</td>\n",
       "      <td>659</td>\n",
       "      <td>889</td>\n",
       "      <td>89</td>\n",
       "      <td>1112</td>\n",
       "    </tr>\n",
       "    <tr>\n",
       "      <th>day_of_week</th>\n",
       "      <td>7</td>\n",
       "      <td>3</td>\n",
       "      <td>3</td>\n",
       "      <td>1</td>\n",
       "      <td>7</td>\n",
       "    </tr>\n",
       "    <tr>\n",
       "      <th>date</th>\n",
       "      <td>2013-06-16 00:00:00</td>\n",
       "      <td>2013-08-28 00:00:00</td>\n",
       "      <td>2013-06-12 00:00:00</td>\n",
       "      <td>2014-03-10 00:00:00</td>\n",
       "      <td>2015-03-15 00:00:00</td>\n",
       "    </tr>\n",
       "    <tr>\n",
       "      <th>sales</th>\n",
       "      <td>0</td>\n",
       "      <td>5973</td>\n",
       "      <td>2863</td>\n",
       "      <td>5374</td>\n",
       "      <td>0</td>\n",
       "    </tr>\n",
       "    <tr>\n",
       "      <th>customers</th>\n",
       "      <td>0</td>\n",
       "      <td>670</td>\n",
       "      <td>401</td>\n",
       "      <td>651</td>\n",
       "      <td>0</td>\n",
       "    </tr>\n",
       "    <tr>\n",
       "      <th>open</th>\n",
       "      <td>0</td>\n",
       "      <td>1</td>\n",
       "      <td>1</td>\n",
       "      <td>1</td>\n",
       "      <td>0</td>\n",
       "    </tr>\n",
       "    <tr>\n",
       "      <th>promo</th>\n",
       "      <td>0</td>\n",
       "      <td>1</td>\n",
       "      <td>0</td>\n",
       "      <td>0</td>\n",
       "      <td>0</td>\n",
       "    </tr>\n",
       "    <tr>\n",
       "      <th>state_holiday</th>\n",
       "      <td>0</td>\n",
       "      <td>0</td>\n",
       "      <td>0</td>\n",
       "      <td>0</td>\n",
       "      <td>0</td>\n",
       "    </tr>\n",
       "    <tr>\n",
       "      <th>school_holiday</th>\n",
       "      <td>0</td>\n",
       "      <td>0</td>\n",
       "      <td>0</td>\n",
       "      <td>0</td>\n",
       "      <td>0</td>\n",
       "    </tr>\n",
       "    <tr>\n",
       "      <th>store_type</th>\n",
       "      <td>d</td>\n",
       "      <td>d</td>\n",
       "      <td>d</td>\n",
       "      <td>a</td>\n",
       "      <td>c</td>\n",
       "    </tr>\n",
       "    <tr>\n",
       "      <th>assortment</th>\n",
       "      <td>a</td>\n",
       "      <td>a</td>\n",
       "      <td>a</td>\n",
       "      <td>a</td>\n",
       "      <td>c</td>\n",
       "    </tr>\n",
       "    <tr>\n",
       "      <th>competition_distance</th>\n",
       "      <td>18610.0</td>\n",
       "      <td>1590.0</td>\n",
       "      <td>18670.0</td>\n",
       "      <td>2380.0</td>\n",
       "      <td>1880.0</td>\n",
       "    </tr>\n",
       "    <tr>\n",
       "      <th>competition_open_since_month</th>\n",
       "      <td>11.0</td>\n",
       "      <td>3.0</td>\n",
       "      <td>12.0</td>\n",
       "      <td>7.0</td>\n",
       "      <td>4.0</td>\n",
       "    </tr>\n",
       "    <tr>\n",
       "      <th>competition_open_since_year</th>\n",
       "      <td>2002.0</td>\n",
       "      <td>2012.0</td>\n",
       "      <td>2005.0</td>\n",
       "      <td>2004.0</td>\n",
       "      <td>2006.0</td>\n",
       "    </tr>\n",
       "    <tr>\n",
       "      <th>promo2</th>\n",
       "      <td>1</td>\n",
       "      <td>0</td>\n",
       "      <td>0</td>\n",
       "      <td>1</td>\n",
       "      <td>0</td>\n",
       "    </tr>\n",
       "    <tr>\n",
       "      <th>promo2_since_week</th>\n",
       "      <td>48.0</td>\n",
       "      <td>35.0</td>\n",
       "      <td>24.0</td>\n",
       "      <td>40.0</td>\n",
       "      <td>11.0</td>\n",
       "    </tr>\n",
       "    <tr>\n",
       "      <th>promo2_since_year</th>\n",
       "      <td>2011.0</td>\n",
       "      <td>2013.0</td>\n",
       "      <td>2013.0</td>\n",
       "      <td>2014.0</td>\n",
       "      <td>2015.0</td>\n",
       "    </tr>\n",
       "    <tr>\n",
       "      <th>promo_interval</th>\n",
       "      <td>Mar,Jun,Sept,Dec</td>\n",
       "      <td>0</td>\n",
       "      <td>0</td>\n",
       "      <td>Jan,Apr,Jul,Oct</td>\n",
       "      <td>0</td>\n",
       "    </tr>\n",
       "    <tr>\n",
       "      <th>month_map</th>\n",
       "      <td>Jun</td>\n",
       "      <td>Aug</td>\n",
       "      <td>Jun</td>\n",
       "      <td>Mar</td>\n",
       "      <td>Mar</td>\n",
       "    </tr>\n",
       "    <tr>\n",
       "      <th>is_promo</th>\n",
       "      <td>1</td>\n",
       "      <td>0</td>\n",
       "      <td>0</td>\n",
       "      <td>0</td>\n",
       "      <td>0</td>\n",
       "    </tr>\n",
       "  </tbody>\n",
       "</table>\n",
       "</div>"
      ],
      "text/plain": [
       "                                           831525               750268  \\\n",
       "store                                         521                  659   \n",
       "day_of_week                                     7                    3   \n",
       "date                          2013-06-16 00:00:00  2013-08-28 00:00:00   \n",
       "sales                                           0                 5973   \n",
       "customers                                       0                  670   \n",
       "open                                            0                    1   \n",
       "promo                                           0                    1   \n",
       "state_holiday                                   0                    0   \n",
       "school_holiday                                  0                    0   \n",
       "store_type                                      d                    d   \n",
       "assortment                                      a                    a   \n",
       "competition_distance                      18610.0               1590.0   \n",
       "competition_open_since_month                 11.0                  3.0   \n",
       "competition_open_since_year                2002.0               2012.0   \n",
       "promo2                                          1                    0   \n",
       "promo2_since_week                            48.0                 35.0   \n",
       "promo2_since_year                          2011.0               2013.0   \n",
       "promo_interval                   Mar,Jun,Sept,Dec                    0   \n",
       "month_map                                     Jun                  Aug   \n",
       "is_promo                                        1                    0   \n",
       "\n",
       "                                           836353               533388  \\\n",
       "store                                         889                   89   \n",
       "day_of_week                                     3                    1   \n",
       "date                          2013-06-12 00:00:00  2014-03-10 00:00:00   \n",
       "sales                                        2863                 5374   \n",
       "customers                                     401                  651   \n",
       "open                                            1                    1   \n",
       "promo                                           0                    0   \n",
       "state_holiday                                   0                    0   \n",
       "school_holiday                                  0                    0   \n",
       "store_type                                      d                    a   \n",
       "assortment                                      a                    a   \n",
       "competition_distance                      18670.0               2380.0   \n",
       "competition_open_since_month                 12.0                  7.0   \n",
       "competition_open_since_year                2005.0               2004.0   \n",
       "promo2                                          0                    1   \n",
       "promo2_since_week                            24.0                 40.0   \n",
       "promo2_since_year                          2013.0               2014.0   \n",
       "promo_interval                                  0      Jan,Apr,Jul,Oct   \n",
       "month_map                                     Jun                  Mar   \n",
       "is_promo                                        0                    0   \n",
       "\n",
       "                                           154981  \n",
       "store                                        1112  \n",
       "day_of_week                                     7  \n",
       "date                          2015-03-15 00:00:00  \n",
       "sales                                           0  \n",
       "customers                                       0  \n",
       "open                                            0  \n",
       "promo                                           0  \n",
       "state_holiday                                   0  \n",
       "school_holiday                                  0  \n",
       "store_type                                      c  \n",
       "assortment                                      c  \n",
       "competition_distance                       1880.0  \n",
       "competition_open_since_month                  4.0  \n",
       "competition_open_since_year                2006.0  \n",
       "promo2                                          0  \n",
       "promo2_since_week                            11.0  \n",
       "promo2_since_year                          2015.0  \n",
       "promo_interval                                  0  \n",
       "month_map                                     Mar  \n",
       "is_promo                                        0  "
      ]
     },
     "execution_count": 26,
     "metadata": {},
     "output_type": "execute_result"
    }
   ],
   "source": [
    "df1.sample(5).T"
   ]
  },
  {
   "cell_type": "markdown",
   "id": "949cb3f0-0eb1-43aa-9115-5a1d8d7a04ad",
   "metadata": {},
   "source": [
    "## 1.6 Mudança dos tipos de dados"
   ]
  },
  {
   "cell_type": "code",
   "execution_count": 27,
   "id": "d528e944-3a22-4840-bbe9-49712ac605ac",
   "metadata": {},
   "outputs": [],
   "source": [
    "df1 ['competition_open_since_month'] = df1 ['competition_open_since_month'].astype (int)\n",
    "df1 ['competition_open_since_year'] = df1 ['competition_open_since_year'].astype (int)\n",
    "df1 ['promo2_since_week'] = df1 ['promo2_since_week'].astype (int)\n",
    "df1 ['promo2_since_year'] = df1 ['promo2_since_year'].astype (int)"
   ]
  },
  {
   "cell_type": "markdown",
   "id": "e3379f1d-304a-457d-ab96-6025bd17b331",
   "metadata": {},
   "source": [
    "## 1.7 Estatística descritiva"
   ]
  },
  {
   "cell_type": "code",
   "execution_count": 29,
   "id": "91354a50-fb62-476a-850e-f0e3d5a1d051",
   "metadata": {},
   "outputs": [],
   "source": [
    "num_atributes = df1.select_dtypes (include=['int64', 'float64'])\n",
    "cat_atributes = df1.select_dtypes (exclude=['int64', 'float64', 'datetime64[ns]'])"
   ]
  },
  {
   "cell_type": "markdown",
   "id": "c2f79853-2e34-4da2-a1f3-2eed12d9732d",
   "metadata": {},
   "source": [
    "## 1.7.1 Atributos numéricos"
   ]
  },
  {
   "cell_type": "code",
   "execution_count": 30,
   "id": "2084ebb8-6975-4c57-b7b5-3b387b1fcb9a",
   "metadata": {
    "scrolled": true
   },
   "outputs": [],
   "source": [
    "# Tendência central: média e mediana\n",
    "ct1 = pd.DataFrame (num_atributes.apply (np.mean)).T\n",
    "ct2 = pd.DataFrame (num_atributes.apply (np.median)).T\n",
    "\n",
    "# Dispersão: desvio padrão, min, max, range, skew, kurtosis\n",
    "d1 = pd.DataFrame (num_atributes.apply (np.std)).T\n",
    "d2 = pd.DataFrame (num_atributes.apply (min)).T\n",
    "d3 = pd.DataFrame (num_atributes.apply (max)).T\n",
    "d4 = pd.DataFrame (num_atributes.apply (lambda x: x.max() - x.min())).T\n",
    "d5 = pd.DataFrame (num_atributes.apply (lambda x: x.skew())).T\n",
    "d6 = pd.DataFrame (num_atributes.apply (lambda x: x.kurtosis())).T\n",
    "\n",
    "# Concatenar\n",
    "m = pd.concat ([d2,d3,d4,ct1,ct2,d1,d5,d6]).T.reset_index()\n",
    "m.columns = ['Atributos', 'Mín', 'Máx', 'Range', 'Média', 'Mediana', 'Desvio padrão', 'Assimetria', 'Kurtose']\n"
   ]
  },
  {
   "cell_type": "code",
   "execution_count": 31,
   "id": "59f39e2f-208d-4908-b30a-98b4ff2b6385",
   "metadata": {},
   "outputs": [
    {
     "data": {
      "text/html": [
       "<div>\n",
       "<style scoped>\n",
       "    .dataframe tbody tr th:only-of-type {\n",
       "        vertical-align: middle;\n",
       "    }\n",
       "\n",
       "    .dataframe tbody tr th {\n",
       "        vertical-align: top;\n",
       "    }\n",
       "\n",
       "    .dataframe thead th {\n",
       "        text-align: right;\n",
       "    }\n",
       "</style>\n",
       "<table border=\"1\" class=\"dataframe\">\n",
       "  <thead>\n",
       "    <tr style=\"text-align: right;\">\n",
       "      <th></th>\n",
       "      <th>Atributos</th>\n",
       "      <th>Mín</th>\n",
       "      <th>Máx</th>\n",
       "      <th>Range</th>\n",
       "      <th>Média</th>\n",
       "      <th>Mediana</th>\n",
       "      <th>Desvio padrão</th>\n",
       "      <th>Assimetria</th>\n",
       "      <th>Kurtose</th>\n",
       "    </tr>\n",
       "  </thead>\n",
       "  <tbody>\n",
       "    <tr>\n",
       "      <th>0</th>\n",
       "      <td>store</td>\n",
       "      <td>1.0</td>\n",
       "      <td>1115.0</td>\n",
       "      <td>1114.0</td>\n",
       "      <td>558.429727</td>\n",
       "      <td>558.0</td>\n",
       "      <td>321.908493</td>\n",
       "      <td>-0.000955</td>\n",
       "      <td>-1.200524</td>\n",
       "    </tr>\n",
       "    <tr>\n",
       "      <th>1</th>\n",
       "      <td>day_of_week</td>\n",
       "      <td>1.0</td>\n",
       "      <td>7.0</td>\n",
       "      <td>6.0</td>\n",
       "      <td>3.998341</td>\n",
       "      <td>4.0</td>\n",
       "      <td>1.997390</td>\n",
       "      <td>0.001593</td>\n",
       "      <td>-1.246873</td>\n",
       "    </tr>\n",
       "    <tr>\n",
       "      <th>2</th>\n",
       "      <td>sales</td>\n",
       "      <td>0.0</td>\n",
       "      <td>41551.0</td>\n",
       "      <td>41551.0</td>\n",
       "      <td>5773.818972</td>\n",
       "      <td>5744.0</td>\n",
       "      <td>3849.924283</td>\n",
       "      <td>0.641460</td>\n",
       "      <td>1.778375</td>\n",
       "    </tr>\n",
       "    <tr>\n",
       "      <th>3</th>\n",
       "      <td>customers</td>\n",
       "      <td>0.0</td>\n",
       "      <td>7388.0</td>\n",
       "      <td>7388.0</td>\n",
       "      <td>633.145946</td>\n",
       "      <td>609.0</td>\n",
       "      <td>464.411506</td>\n",
       "      <td>1.598650</td>\n",
       "      <td>7.091773</td>\n",
       "    </tr>\n",
       "    <tr>\n",
       "      <th>4</th>\n",
       "      <td>open</td>\n",
       "      <td>0.0</td>\n",
       "      <td>1.0</td>\n",
       "      <td>1.0</td>\n",
       "      <td>0.830107</td>\n",
       "      <td>1.0</td>\n",
       "      <td>0.375539</td>\n",
       "      <td>-1.758045</td>\n",
       "      <td>1.090723</td>\n",
       "    </tr>\n",
       "    <tr>\n",
       "      <th>5</th>\n",
       "      <td>promo</td>\n",
       "      <td>0.0</td>\n",
       "      <td>1.0</td>\n",
       "      <td>1.0</td>\n",
       "      <td>0.381515</td>\n",
       "      <td>0.0</td>\n",
       "      <td>0.485758</td>\n",
       "      <td>0.487838</td>\n",
       "      <td>-1.762018</td>\n",
       "    </tr>\n",
       "    <tr>\n",
       "      <th>6</th>\n",
       "      <td>school_holiday</td>\n",
       "      <td>0.0</td>\n",
       "      <td>1.0</td>\n",
       "      <td>1.0</td>\n",
       "      <td>0.178647</td>\n",
       "      <td>0.0</td>\n",
       "      <td>0.383056</td>\n",
       "      <td>1.677842</td>\n",
       "      <td>0.815154</td>\n",
       "    </tr>\n",
       "    <tr>\n",
       "      <th>7</th>\n",
       "      <td>competition_distance</td>\n",
       "      <td>20.0</td>\n",
       "      <td>200000.0</td>\n",
       "      <td>199980.0</td>\n",
       "      <td>5935.442677</td>\n",
       "      <td>2330.0</td>\n",
       "      <td>12547.646829</td>\n",
       "      <td>10.242344</td>\n",
       "      <td>147.789712</td>\n",
       "    </tr>\n",
       "    <tr>\n",
       "      <th>8</th>\n",
       "      <td>competition_open_since_month</td>\n",
       "      <td>1.0</td>\n",
       "      <td>12.0</td>\n",
       "      <td>11.0</td>\n",
       "      <td>6.786849</td>\n",
       "      <td>7.0</td>\n",
       "      <td>3.311085</td>\n",
       "      <td>-0.042076</td>\n",
       "      <td>-1.232607</td>\n",
       "    </tr>\n",
       "    <tr>\n",
       "      <th>9</th>\n",
       "      <td>competition_open_since_year</td>\n",
       "      <td>1900.0</td>\n",
       "      <td>2015.0</td>\n",
       "      <td>115.0</td>\n",
       "      <td>2010.324840</td>\n",
       "      <td>2012.0</td>\n",
       "      <td>5.515591</td>\n",
       "      <td>-7.235657</td>\n",
       "      <td>124.071304</td>\n",
       "    </tr>\n",
       "    <tr>\n",
       "      <th>10</th>\n",
       "      <td>promo2</td>\n",
       "      <td>0.0</td>\n",
       "      <td>1.0</td>\n",
       "      <td>1.0</td>\n",
       "      <td>0.500564</td>\n",
       "      <td>1.0</td>\n",
       "      <td>0.500000</td>\n",
       "      <td>-0.002255</td>\n",
       "      <td>-1.999999</td>\n",
       "    </tr>\n",
       "    <tr>\n",
       "      <th>11</th>\n",
       "      <td>promo2_since_week</td>\n",
       "      <td>1.0</td>\n",
       "      <td>52.0</td>\n",
       "      <td>51.0</td>\n",
       "      <td>23.619033</td>\n",
       "      <td>22.0</td>\n",
       "      <td>14.310057</td>\n",
       "      <td>0.178723</td>\n",
       "      <td>-1.184046</td>\n",
       "    </tr>\n",
       "    <tr>\n",
       "      <th>12</th>\n",
       "      <td>promo2_since_year</td>\n",
       "      <td>2009.0</td>\n",
       "      <td>2015.0</td>\n",
       "      <td>6.0</td>\n",
       "      <td>2012.793297</td>\n",
       "      <td>2013.0</td>\n",
       "      <td>1.662657</td>\n",
       "      <td>-0.784436</td>\n",
       "      <td>-0.210075</td>\n",
       "    </tr>\n",
       "    <tr>\n",
       "      <th>13</th>\n",
       "      <td>is_promo</td>\n",
       "      <td>0.0</td>\n",
       "      <td>1.0</td>\n",
       "      <td>1.0</td>\n",
       "      <td>0.155231</td>\n",
       "      <td>0.0</td>\n",
       "      <td>0.362124</td>\n",
       "      <td>1.904152</td>\n",
       "      <td>1.625796</td>\n",
       "    </tr>\n",
       "  </tbody>\n",
       "</table>\n",
       "</div>"
      ],
      "text/plain": [
       "                       Atributos     Mín       Máx     Range        Média  \\\n",
       "0                          store     1.0    1115.0    1114.0   558.429727   \n",
       "1                    day_of_week     1.0       7.0       6.0     3.998341   \n",
       "2                          sales     0.0   41551.0   41551.0  5773.818972   \n",
       "3                      customers     0.0    7388.0    7388.0   633.145946   \n",
       "4                           open     0.0       1.0       1.0     0.830107   \n",
       "5                          promo     0.0       1.0       1.0     0.381515   \n",
       "6                 school_holiday     0.0       1.0       1.0     0.178647   \n",
       "7           competition_distance    20.0  200000.0  199980.0  5935.442677   \n",
       "8   competition_open_since_month     1.0      12.0      11.0     6.786849   \n",
       "9    competition_open_since_year  1900.0    2015.0     115.0  2010.324840   \n",
       "10                        promo2     0.0       1.0       1.0     0.500564   \n",
       "11             promo2_since_week     1.0      52.0      51.0    23.619033   \n",
       "12             promo2_since_year  2009.0    2015.0       6.0  2012.793297   \n",
       "13                      is_promo     0.0       1.0       1.0     0.155231   \n",
       "\n",
       "    Mediana  Desvio padrão  Assimetria     Kurtose  \n",
       "0     558.0     321.908493   -0.000955   -1.200524  \n",
       "1       4.0       1.997390    0.001593   -1.246873  \n",
       "2    5744.0    3849.924283    0.641460    1.778375  \n",
       "3     609.0     464.411506    1.598650    7.091773  \n",
       "4       1.0       0.375539   -1.758045    1.090723  \n",
       "5       0.0       0.485758    0.487838   -1.762018  \n",
       "6       0.0       0.383056    1.677842    0.815154  \n",
       "7    2330.0   12547.646829   10.242344  147.789712  \n",
       "8       7.0       3.311085   -0.042076   -1.232607  \n",
       "9    2012.0       5.515591   -7.235657  124.071304  \n",
       "10      1.0       0.500000   -0.002255   -1.999999  \n",
       "11     22.0      14.310057    0.178723   -1.184046  \n",
       "12   2013.0       1.662657   -0.784436   -0.210075  \n",
       "13      0.0       0.362124    1.904152    1.625796  "
      ]
     },
     "execution_count": 31,
     "metadata": {},
     "output_type": "execute_result"
    }
   ],
   "source": [
    "m"
   ]
  },
  {
   "cell_type": "markdown",
   "id": "472e8f1e-0bea-4cac-bff4-b1cc3deee3c1",
   "metadata": {},
   "source": [
    "## 1.7.2 Atributos categóricos"
   ]
  },
  {
   "cell_type": "code",
   "execution_count": 32,
   "id": "245343f8-b158-49e1-af44-9ab051376e63",
   "metadata": {},
   "outputs": [
    {
     "data": {
      "text/plain": [
       "state_holiday      4\n",
       "store_type         4\n",
       "assortment         3\n",
       "promo_interval     4\n",
       "month_map         12\n",
       "dtype: int64"
      ]
     },
     "execution_count": 32,
     "metadata": {},
     "output_type": "execute_result"
    }
   ],
   "source": [
    "cat_atributes.apply (lambda x: x.unique().shape [0])"
   ]
  },
  {
   "cell_type": "code",
   "execution_count": 33,
   "id": "785c220b-8132-4ea1-a321-0a83d442ff90",
   "metadata": {},
   "outputs": [
    {
     "data": {
      "text/plain": [
       "<Axes: xlabel='assortment', ylabel='sales'>"
      ]
     },
     "execution_count": 33,
     "metadata": {},
     "output_type": "execute_result"
    },
    {
     "data": {
      "image/png": "[encoded data removed]",
      "text/plain": [
       "<Figure size 640x480 with 3 Axes>"
      ]
     },
     "metadata": {},
     "output_type": "display_data"
    }
   ],
   "source": [
    "aux1 = df1 [(df1['state_holiday'] !=0) & (df1['sales'] > 0)]\n",
    "\n",
    "plt.subplot (1,3,1)\n",
    "sns.boxplot (x='state_holiday', y='sales', data=aux1)\n",
    "\n",
    "plt.subplot (1,3,2)\n",
    "sns.boxplot (x='store_type', y='sales', data=aux1)\n",
    "\n",
    "plt.subplot (1,3,3)\n",
    "sns.boxplot (x='assortment', y='sales', data=aux1)"
   ]
  },
  {
   "cell_type": "markdown",
   "id": "cd68a813-ddf1-419a-8b94-39eb7df45951",
   "metadata": {},
   "source": [
    "# 2.0 FEATURE ENGINEERING"
   ]
  },
  {
   "cell_type": "code",
   "execution_count": null,
   "id": "7abea533-693f-4725-8d8e-ef4d2f8e65f6",
   "metadata": {},
   "outputs": [],
   "source": []
  },
  {
   "cell_type": "code",
   "execution_count": null,
   "id": "390654ff-981c-4a6d-8bb3-e293ecf3f96b",
   "metadata": {},
   "outputs": [],
   "source": [
    "from PIL import Image\n",
    "\n",
    "img = Image.open('Image/Mapa_mental_hipoteses.png')\n",
    "img"
   ]
  },
  {
   "cell_type": "code",
   "execution_count": null,
   "id": "a41545c7-9056-4ae7-9a55-9ce2cc4e857f",
   "metadata": {},
   "outputs": [],
   "source": []
  },
  {
   "cell_type": "markdown",
   "id": "53ba202b-9c1d-4b6e-a6c3-e00fa92c3329",
   "metadata": {
    "jp-MarkdownHeadingCollapsed": true
   },
   "source": [
    "### 2.1.1 Hipóteses loja"
   ]
  },
  {
   "cell_type": "markdown",
   "id": "2bb911d3-8cc2-40ae-945f-9fe61c8ab991",
   "metadata": {},
   "source": [
    "**1.**Lojas com número maior de funcionários deveriam vender mais "
   ]
  },
  {
   "cell_type": "markdown",
   "id": "ce99c917-ba5d-488e-9c45-1aee475ab073",
   "metadata": {},
   "source": [
    "**2.**Lojas com maior estoque deveriam vender mais"
   ]
  },
  {
   "cell_type": "markdown",
   "id": "760a64ec-bc45-42fa-81a3-1606838d09e8",
   "metadata": {},
   "source": [
    "**3.**Lojas com maior porte deveriam vender mais"
   ]
  },
  {
   "cell_type": "markdown",
   "id": "244f4a13-3766-48dd-877b-3a426b688c50",
   "metadata": {},
   "source": [
    "**4.**Lojas com maior sortimento deveriam vender mais"
   ]
  },
  {
   "cell_type": "markdown",
   "id": "baddc011-46a7-474d-a2a4-454a4b7b8e4a",
   "metadata": {},
   "source": [
    "**5.**Lojas com competidores mais próximos deveriam vender menos"
   ]
  },
  {
   "cell_type": "markdown",
   "id": "939e865d-1e62-40af-850b-cd0f47534170",
   "metadata": {},
   "source": [
    "**6.**Lojas com competidores à mais tempo deveriam vender mais "
   ]
  },
  {
   "cell_type": "markdown",
   "id": "fe239410-3bc2-47cf-9bfb-732796b593c3",
   "metadata": {
    "jp-MarkdownHeadingCollapsed": true
   },
   "source": [
    "### 2.1.2 Hipóteses produto"
   ]
  },
  {
   "cell_type": "markdown",
   "id": "80cb51ab-48ae-4fb8-81c4-76970f14e8b4",
   "metadata": {},
   "source": [
    "**1.**Lojas que investem mais em marketing deveriam vender mais"
   ]
  },
  {
   "cell_type": "markdown",
   "id": "98ccdcf3-4d3d-46d8-ba20-a7c3d5b30222",
   "metadata": {},
   "source": [
    "**2.**Lojas que expõe mais os produtos nas vitrines deveriam vender mais"
   ]
  },
  {
   "cell_type": "markdown",
   "id": "96699ef5-e314-4776-8dfe-cb1afbcea986",
   "metadata": {},
   "source": [
    "**3.**Lojas que tem preços menores dos produtos deveriam vender mais"
   ]
  },
  {
   "cell_type": "markdown",
   "id": "fa171dc3-585c-43fb-9b07-5f985a4e18af",
   "metadata": {},
   "source": [
    "**4.**Lojas com promoções mais agressivas (descontos maiores) deveriam vender mais"
   ]
  },
  {
   "cell_type": "markdown",
   "id": "fe3dbe3b-2cbf-4c41-86da-9ed2d291c0a8",
   "metadata": {},
   "source": [
    "**5.**Lojas com promoções ativas por mais tempo deveriam vender mais"
   ]
  },
  {
   "cell_type": "markdown",
   "id": "b2c29d7d-523c-4747-badd-3b41b23af784",
   "metadata": {},
   "source": [
    "**6.**Lojas com mais dias de promoção deveriam vender mais"
   ]
  },
  {
   "cell_type": "markdown",
   "id": "0553c45b-0565-409f-81cf-2b1c67803948",
   "metadata": {
    "jp-MarkdownHeadingCollapsed": true
   },
   "source": [
    "**7.**Lojas com mais promoções consecutivas deveriam vender mais"
   ]
  },
  {
   "cell_type": "markdown",
   "id": "4a10eea8-d149-4427-b1cb-fa201f9c359d",
   "metadata": {
    "jp-MarkdownHeadingCollapsed": true
   },
   "source": [
    "### 2.1.3 Hipóteses tempo"
   ]
  },
  {
   "cell_type": "markdown",
   "id": "a6e95141-d029-435e-a433-a00798967b81",
   "metadata": {},
   "source": [
    "**1.**Lojas abertas durante o feriado de Natal deveriam vender mais"
   ]
  },
  {
   "cell_type": "markdown",
   "id": "1b577441-501b-4283-b3ff-60e98b6f8459",
   "metadata": {},
   "source": [
    "**2.**Lojas deveriam vender mais ao longo dos anos"
   ]
  },
  {
   "cell_type": "markdown",
   "id": "7a651368-03aa-4c80-b34a-94d0a001d39f",
   "metadata": {},
   "source": [
    "**3.**Lojas deveriam vender mais no segundo semestre do ano"
   ]
  },
  {
   "cell_type": "markdown",
   "id": "b491b866-7abe-42e1-8e52-a6c23a2c3949",
   "metadata": {},
   "source": [
    "**4.**Lojas deveriam vender mais depois do dia 10 de cada mês"
   ]
  },
  {
   "cell_type": "markdown",
   "id": "311ebcb4-7980-49e6-b024-9b2ab4dee55c",
   "metadata": {},
   "source": [
    "**5.**Lojas deveriam vender menos aos finais de semana"
   ]
  },
  {
   "cell_type": "markdown",
   "id": "0f3e263f-741f-43fc-a7bc-03c7a72b274e",
   "metadata": {},
   "source": [
    "**6.**Lojas deveriam vender menos durante os feriados escolares"
   ]
  },
  {
   "cell_type": "markdown",
   "id": "e730a35a-6ea3-41bc-9040-64d3ebb72e5b",
   "metadata": {
    "jp-MarkdownHeadingCollapsed": true
   },
   "source": [
    "## 2.2 Lista final de hipóteses"
   ]
  },
  {
   "cell_type": "markdown",
   "id": "eefa3a8e-09e4-4a0c-b0c3-ad627c084eaf",
   "metadata": {},
   "source": [
    "**1.Lojas com maior sortimento deveriam vender mais"
   ]
  },
  {
   "cell_type": "markdown",
   "id": "dc4ebb95-6ded-4cd6-acec-6f09f22d7ef8",
   "metadata": {},
   "source": [
    "**2.Lojas com competidores mais próximos deveriam vender menos"
   ]
  },
  {
   "cell_type": "markdown",
   "id": "6df75924-0d41-4454-a80c-4106a548c164",
   "metadata": {},
   "source": [
    "**3.Lojas com competidores à mais tempo deveriam vender mais"
   ]
  },
  {
   "cell_type": "markdown",
   "id": "1e1d1302-8768-4491-8a3b-87c0a50293c7",
   "metadata": {},
   "source": [
    "**4.Lojas com promoções ativas por mais tempo deveriam vender mais"
   ]
  },
  {
   "cell_type": "markdown",
   "id": "e2d411d9-d7e5-450e-a232-e2cf17dfe19d",
   "metadata": {},
   "source": [
    "**5.Lojas com mais dias de promoção deveriam vender mais"
   ]
  },
  {
   "cell_type": "markdown",
   "id": "8d5af2d6-389f-4b88-b354-316045f88613",
   "metadata": {},
   "source": [
    "**6.Lojas com mais promoções consecutivas deveriam vender mais"
   ]
  },
  {
   "cell_type": "markdown",
   "id": "5b2930e6-6fa4-4b7b-b857-691830b39ad5",
   "metadata": {},
   "source": [
    "**7.Lojas abertas durante o feriado de Natal deveriam vender mais"
   ]
  },
  {
   "cell_type": "markdown",
   "id": "ade09020-0276-42a6-b4a9-24a4f0c38d0c",
   "metadata": {},
   "source": [
    "**8.Lojas deveriam vender mais ao longo dos anos"
   ]
  },
  {
   "cell_type": "markdown",
   "id": "934ce5b1-b1bd-44cd-a370-71530bedcecc",
   "metadata": {},
   "source": [
    "**9.Lojas deveriam vender mais no segundo semestre do ano"
   ]
  },
  {
   "cell_type": "markdown",
   "id": "4ff4e713-eaa7-4614-b46a-a2bc9fb7aeae",
   "metadata": {},
   "source": [
    "**10.Lojas deveriam vender mais depois do dia 10 de cada mês"
   ]
  },
  {
   "cell_type": "markdown",
   "id": "1987e10e-2e66-4cda-b7fe-61cc2e924f1f",
   "metadata": {},
   "source": [
    "**11.Lojas deveriam vender menos aos finais de semana"
   ]
  },
  {
   "cell_type": "markdown",
   "id": "7b184b1c-b6ee-45f8-94a9-077a0052a1e7",
   "metadata": {},
   "source": [
    "**12.Lojas deveriam vender menos durante os feriados escolares"
   ]
  },
  {
   "cell_type": "markdown",
   "id": "f7cf279a-0926-4728-ada3-e9509d3b87fe",
   "metadata": {},
   "source": [
    "## 2.3 Feature Engineering"
   ]
  },
  {
   "cell_type": "code",
   "execution_count": 35,
   "id": "5627f2e1-9589-46a6-95c6-c0d001451a67",
   "metadata": {},
   "outputs": [],
   "source": [
    "df2 = df1.copy()"
   ]
  },
  {
   "cell_type": "code",
   "execution_count": 58,
   "id": "4095f08a-7f07-46ac-b3f7-918a25dcd5cb",
   "metadata": {},
   "outputs": [],
   "source": [
    "df2 ['year'] = df2 ['date'].dt.year\n",
    "\n",
    "df2 ['month'] = df2 ['date'].dt.month\n",
    "\n",
    "df2 ['day'] = df2 ['date'].dt.day\n",
    "\n",
    "#df2 ['week_of_year'] = df2 ['date'].dt.weekofyear\n",
    "df2 ['week_of_year'] = df2['date'].dt.isocalendar().week\n",
    "\n",
    "df2 ['year_week'] = df2 ['date'].dt.strftime ('%Y-%W')\n",
    "\n",
    "df2 ['competition_since'] = df2.apply (lambda x: datetime.datetime (year=x['competition_open_since_year'], month=x ['competition_open_since_month'], day=1), axis=1)\n",
    "df2 ['competition_time_month'] = ((df2['date'] - df2 ['competition_since'])/30).apply (lambda x:x.days).astype (int)\n",
    "\n",
    "df2 ['promo_since'] = df2 ['promo2_since_year'].astype (str) + '-' + df2 ['promo2_since_week'].astype (str)\n",
    "df2 ['promo_since'] = df2 ['promo_since'].apply (lambda x: datetime.datetime.strptime (x + '-1', '%Y-%W-%w') - datetime.timedelta (days=7))\n",
    "df2 ['promo_time_week'] = ((df2['date'] - df2 ['promo_since'])/7).apply(lambda x: x.days).astype (int)\n",
    "\n",
    "df2 ['assortment'] = df2 ['assortment'].apply (lambda x: 'basic' if x=='a' else 'extra' if x== 'b' else 'extended') \n",
    "\n",
    "df2 ['state_holiday'] = df2 ['state_holiday']. apply (lambda x: 'public_holiday'if x=='a' else 'easter_holiday' if x=='b' else 'christmas' if x=='c' else 'regular_day')"
   ]
  },
  {
   "cell_type": "code",
   "execution_count": 59,
   "id": "163f5c12-a2f3-4e45-a463-1e82324d54f9",
   "metadata": {},
   "outputs": [
    {
     "data": {
      "text/html": [
       "<div>\n",
       "<style scoped>\n",
       "    .dataframe tbody tr th:only-of-type {\n",
       "        vertical-align: middle;\n",
       "    }\n",
       "\n",
       "    .dataframe tbody tr th {\n",
       "        vertical-align: top;\n",
       "    }\n",
       "\n",
       "    .dataframe thead th {\n",
       "        text-align: right;\n",
       "    }\n",
       "</style>\n",
       "<table border=\"1\" class=\"dataframe\">\n",
       "  <thead>\n",
       "    <tr style=\"text-align: right;\">\n",
       "      <th></th>\n",
       "      <th>0</th>\n",
       "      <th>1</th>\n",
       "      <th>2</th>\n",
       "      <th>3</th>\n",
       "      <th>4</th>\n",
       "    </tr>\n",
       "  </thead>\n",
       "  <tbody>\n",
       "    <tr>\n",
       "      <th>store</th>\n",
       "      <td>1</td>\n",
       "      <td>2</td>\n",
       "      <td>3</td>\n",
       "      <td>4</td>\n",
       "      <td>5</td>\n",
       "    </tr>\n",
       "    <tr>\n",
       "      <th>day_of_week</th>\n",
       "      <td>5</td>\n",
       "      <td>5</td>\n",
       "      <td>5</td>\n",
       "      <td>5</td>\n",
       "      <td>5</td>\n",
       "    </tr>\n",
       "    <tr>\n",
       "      <th>date</th>\n",
       "      <td>2015-07-31 00:00:00</td>\n",
       "      <td>2015-07-31 00:00:00</td>\n",
       "      <td>2015-07-31 00:00:00</td>\n",
       "      <td>2015-07-31 00:00:00</td>\n",
       "      <td>2015-07-31 00:00:00</td>\n",
       "    </tr>\n",
       "    <tr>\n",
       "      <th>sales</th>\n",
       "      <td>5263</td>\n",
       "      <td>6064</td>\n",
       "      <td>8314</td>\n",
       "      <td>13995</td>\n",
       "      <td>4822</td>\n",
       "    </tr>\n",
       "    <tr>\n",
       "      <th>customers</th>\n",
       "      <td>555</td>\n",
       "      <td>625</td>\n",
       "      <td>821</td>\n",
       "      <td>1498</td>\n",
       "      <td>559</td>\n",
       "    </tr>\n",
       "    <tr>\n",
       "      <th>open</th>\n",
       "      <td>1</td>\n",
       "      <td>1</td>\n",
       "      <td>1</td>\n",
       "      <td>1</td>\n",
       "      <td>1</td>\n",
       "    </tr>\n",
       "    <tr>\n",
       "      <th>promo</th>\n",
       "      <td>1</td>\n",
       "      <td>1</td>\n",
       "      <td>1</td>\n",
       "      <td>1</td>\n",
       "      <td>1</td>\n",
       "    </tr>\n",
       "    <tr>\n",
       "      <th>state_holiday</th>\n",
       "      <td>regular_day</td>\n",
       "      <td>regular_day</td>\n",
       "      <td>regular_day</td>\n",
       "      <td>regular_day</td>\n",
       "      <td>regular_day</td>\n",
       "    </tr>\n",
       "    <tr>\n",
       "      <th>school_holiday</th>\n",
       "      <td>1</td>\n",
       "      <td>1</td>\n",
       "      <td>1</td>\n",
       "      <td>1</td>\n",
       "      <td>1</td>\n",
       "    </tr>\n",
       "    <tr>\n",
       "      <th>store_type</th>\n",
       "      <td>c</td>\n",
       "      <td>a</td>\n",
       "      <td>a</td>\n",
       "      <td>c</td>\n",
       "      <td>a</td>\n",
       "    </tr>\n",
       "    <tr>\n",
       "      <th>assortment</th>\n",
       "      <td>extended</td>\n",
       "      <td>extended</td>\n",
       "      <td>extended</td>\n",
       "      <td>extended</td>\n",
       "      <td>extended</td>\n",
       "    </tr>\n",
       "    <tr>\n",
       "      <th>competition_distance</th>\n",
       "      <td>1270.0</td>\n",
       "      <td>570.0</td>\n",
       "      <td>14130.0</td>\n",
       "      <td>620.0</td>\n",
       "      <td>29910.0</td>\n",
       "    </tr>\n",
       "    <tr>\n",
       "      <th>competition_open_since_month</th>\n",
       "      <td>9</td>\n",
       "      <td>11</td>\n",
       "      <td>12</td>\n",
       "      <td>9</td>\n",
       "      <td>4</td>\n",
       "    </tr>\n",
       "    <tr>\n",
       "      <th>competition_open_since_year</th>\n",
       "      <td>2008</td>\n",
       "      <td>2007</td>\n",
       "      <td>2006</td>\n",
       "      <td>2009</td>\n",
       "      <td>2015</td>\n",
       "    </tr>\n",
       "    <tr>\n",
       "      <th>promo2</th>\n",
       "      <td>0</td>\n",
       "      <td>1</td>\n",
       "      <td>1</td>\n",
       "      <td>0</td>\n",
       "      <td>0</td>\n",
       "    </tr>\n",
       "    <tr>\n",
       "      <th>promo2_since_week</th>\n",
       "      <td>31</td>\n",
       "      <td>13</td>\n",
       "      <td>14</td>\n",
       "      <td>31</td>\n",
       "      <td>31</td>\n",
       "    </tr>\n",
       "    <tr>\n",
       "      <th>promo2_since_year</th>\n",
       "      <td>2015</td>\n",
       "      <td>2010</td>\n",
       "      <td>2011</td>\n",
       "      <td>2015</td>\n",
       "      <td>2015</td>\n",
       "    </tr>\n",
       "    <tr>\n",
       "      <th>promo_interval</th>\n",
       "      <td>0</td>\n",
       "      <td>Jan,Apr,Jul,Oct</td>\n",
       "      <td>Jan,Apr,Jul,Oct</td>\n",
       "      <td>0</td>\n",
       "      <td>0</td>\n",
       "    </tr>\n",
       "    <tr>\n",
       "      <th>month_map</th>\n",
       "      <td>Jul</td>\n",
       "      <td>Jul</td>\n",
       "      <td>Jul</td>\n",
       "      <td>Jul</td>\n",
       "      <td>Jul</td>\n",
       "    </tr>\n",
       "    <tr>\n",
       "      <th>is_promo</th>\n",
       "      <td>0</td>\n",
       "      <td>1</td>\n",
       "      <td>1</td>\n",
       "      <td>0</td>\n",
       "      <td>0</td>\n",
       "    </tr>\n",
       "    <tr>\n",
       "      <th>year</th>\n",
       "      <td>2015</td>\n",
       "      <td>2015</td>\n",
       "      <td>2015</td>\n",
       "      <td>2015</td>\n",
       "      <td>2015</td>\n",
       "    </tr>\n",
       "    <tr>\n",
       "      <th>month</th>\n",
       "      <td>7</td>\n",
       "      <td>7</td>\n",
       "      <td>7</td>\n",
       "      <td>7</td>\n",
       "      <td>7</td>\n",
       "    </tr>\n",
       "    <tr>\n",
       "      <th>day</th>\n",
       "      <td>31</td>\n",
       "      <td>31</td>\n",
       "      <td>31</td>\n",
       "      <td>31</td>\n",
       "      <td>31</td>\n",
       "    </tr>\n",
       "    <tr>\n",
       "      <th>year_week</th>\n",
       "      <td>2015-30</td>\n",
       "      <td>2015-30</td>\n",
       "      <td>2015-30</td>\n",
       "      <td>2015-30</td>\n",
       "      <td>2015-30</td>\n",
       "    </tr>\n",
       "    <tr>\n",
       "      <th>competition_since</th>\n",
       "      <td>2008-09-01 00:00:00</td>\n",
       "      <td>2007-11-01 00:00:00</td>\n",
       "      <td>2006-12-01 00:00:00</td>\n",
       "      <td>2009-09-01 00:00:00</td>\n",
       "      <td>2015-04-01 00:00:00</td>\n",
       "    </tr>\n",
       "    <tr>\n",
       "      <th>week_of_year</th>\n",
       "      <td>31</td>\n",
       "      <td>31</td>\n",
       "      <td>31</td>\n",
       "      <td>31</td>\n",
       "      <td>31</td>\n",
       "    </tr>\n",
       "    <tr>\n",
       "      <th>competition_time_month</th>\n",
       "      <td>84</td>\n",
       "      <td>94</td>\n",
       "      <td>105</td>\n",
       "      <td>71</td>\n",
       "      <td>4</td>\n",
       "    </tr>\n",
       "    <tr>\n",
       "      <th>promo_since</th>\n",
       "      <td>2015-07-27 00:00:00</td>\n",
       "      <td>2010-03-22 00:00:00</td>\n",
       "      <td>2011-03-28 00:00:00</td>\n",
       "      <td>2015-07-27 00:00:00</td>\n",
       "      <td>2015-07-27 00:00:00</td>\n",
       "    </tr>\n",
       "    <tr>\n",
       "      <th>promo_time_week</th>\n",
       "      <td>0</td>\n",
       "      <td>279</td>\n",
       "      <td>226</td>\n",
       "      <td>0</td>\n",
       "      <td>0</td>\n",
       "    </tr>\n",
       "  </tbody>\n",
       "</table>\n",
       "</div>"
      ],
      "text/plain": [
       "                                                0                    1  \\\n",
       "store                                           1                    2   \n",
       "day_of_week                                     5                    5   \n",
       "date                          2015-07-31 00:00:00  2015-07-31 00:00:00   \n",
       "sales                                        5263                 6064   \n",
       "customers                                     555                  625   \n",
       "open                                            1                    1   \n",
       "promo                                           1                    1   \n",
       "state_holiday                         regular_day          regular_day   \n",
       "school_holiday                                  1                    1   \n",
       "store_type                                      c                    a   \n",
       "assortment                               extended             extended   \n",
       "competition_distance                       1270.0                570.0   \n",
       "competition_open_since_month                    9                   11   \n",
       "competition_open_since_year                  2008                 2007   \n",
       "promo2                                          0                    1   \n",
       "promo2_since_week                              31                   13   \n",
       "promo2_since_year                            2015                 2010   \n",
       "promo_interval                                  0      Jan,Apr,Jul,Oct   \n",
       "month_map                                     Jul                  Jul   \n",
       "is_promo                                        0                    1   \n",
       "year                                         2015                 2015   \n",
       "month                                           7                    7   \n",
       "day                                            31                   31   \n",
       "year_week                                 2015-30              2015-30   \n",
       "competition_since             2008-09-01 00:00:00  2007-11-01 00:00:00   \n",
       "week_of_year                                   31                   31   \n",
       "competition_time_month                         84                   94   \n",
       "promo_since                   2015-07-27 00:00:00  2010-03-22 00:00:00   \n",
       "promo_time_week                                 0                  279   \n",
       "\n",
       "                                                2                    3  \\\n",
       "store                                           3                    4   \n",
       "day_of_week                                     5                    5   \n",
       "date                          2015-07-31 00:00:00  2015-07-31 00:00:00   \n",
       "sales                                        8314                13995   \n",
       "customers                                     821                 1498   \n",
       "open                                            1                    1   \n",
       "promo                                           1                    1   \n",
       "state_holiday                         regular_day          regular_day   \n",
       "school_holiday                                  1                    1   \n",
       "store_type                                      a                    c   \n",
       "assortment                               extended             extended   \n",
       "competition_distance                      14130.0                620.0   \n",
       "competition_open_since_month                   12                    9   \n",
       "competition_open_since_year                  2006                 2009   \n",
       "promo2                                          1                    0   \n",
       "promo2_since_week                              14                   31   \n",
       "promo2_since_year                            2011                 2015   \n",
       "promo_interval                    Jan,Apr,Jul,Oct                    0   \n",
       "month_map                                     Jul                  Jul   \n",
       "is_promo                                        1                    0   \n",
       "year                                         2015                 2015   \n",
       "month                                           7                    7   \n",
       "day                                            31                   31   \n",
       "year_week                                 2015-30              2015-30   \n",
       "competition_since             2006-12-01 00:00:00  2009-09-01 00:00:00   \n",
       "week_of_year                                   31                   31   \n",
       "competition_time_month                        105                   71   \n",
       "promo_since                   2011-03-28 00:00:00  2015-07-27 00:00:00   \n",
       "promo_time_week                               226                    0   \n",
       "\n",
       "                                                4  \n",
       "store                                           5  \n",
       "day_of_week                                     5  \n",
       "date                          2015-07-31 00:00:00  \n",
       "sales                                        4822  \n",
       "customers                                     559  \n",
       "open                                            1  \n",
       "promo                                           1  \n",
       "state_holiday                         regular_day  \n",
       "school_holiday                                  1  \n",
       "store_type                                      a  \n",
       "assortment                               extended  \n",
       "competition_distance                      29910.0  \n",
       "competition_open_since_month                    4  \n",
       "competition_open_since_year                  2015  \n",
       "promo2                                          0  \n",
       "promo2_since_week                              31  \n",
       "promo2_since_year                            2015  \n",
       "promo_interval                                  0  \n",
       "month_map                                     Jul  \n",
       "is_promo                                        0  \n",
       "year                                         2015  \n",
       "month                                           7  \n",
       "day                                            31  \n",
       "year_week                                 2015-30  \n",
       "competition_since             2015-04-01 00:00:00  \n",
       "week_of_year                                   31  \n",
       "competition_time_month                          4  \n",
       "promo_since                   2015-07-27 00:00:00  \n",
       "promo_time_week                                 0  "
      ]
     },
     "execution_count": 59,
     "metadata": {},
     "output_type": "execute_result"
    }
   ],
   "source": [
    "df2.head ().T"
   ]
  },
  {
   "cell_type": "code",
   "execution_count": null,
   "id": "27e45c7e-4026-4d26-b323-2d82c40af999",
   "metadata": {},
   "outputs": [],
   "source": []
  }
 ],
 "metadata": {
  "kernelspec": {
   "display_name": "Python 3 (ipykernel)",
   "language": "python",
   "name": "python3"
  },
  "language_info": {
   "codemirror_mode": {
    "name": "ipython",
    "version": 3
   },
   "file_extension": ".py",
   "mimetype": "text/x-python",
   "name": "python",
   "nbconvert_exporter": "python",
   "pygments_lexer": "ipython3",
   "version": "3.12.7"
  }
 },
 "nbformat": 4,
 "nbformat_minor": 5
}
